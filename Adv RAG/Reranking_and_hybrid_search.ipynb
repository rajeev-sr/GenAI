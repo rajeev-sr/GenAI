{
  "nbformat": 4,
  "nbformat_minor": 0,
  "metadata": {
    "colab": {
      "provenance": [],
      "gpuType": "V28"
    },
    "kernelspec": {
      "name": "python3",
      "display_name": "Python 3"
    },
    "language_info": {
      "name": "python"
    },
    "accelerator": "TPU"
  },
  "cells": [
    {
      "cell_type": "code",
      "execution_count": 7,
      "metadata": {
        "id": "Ku5PvXoic2ZQ"
      },
      "outputs": [],
      "source": [
        "!pip install -qU weaviate-client"
      ]
    },
    {
      "cell_type": "code",
      "source": [
        "!pip install -qU langchain langchain-community"
      ],
      "metadata": {
        "id": "nlSVuKC0dcgU"
      },
      "execution_count": 8,
      "outputs": []
    },
    {
      "cell_type": "code",
      "source": [
        "import weaviate"
      ],
      "metadata": {
        "id": "T7LHkYHodcdb"
      },
      "execution_count": null,
      "outputs": []
    },
    {
      "cell_type": "code",
      "source": [
        "WEAVIATE_URL=\n",
        "WEAVIATE_API_KEY="
      ],
      "metadata": {
        "id": "3ne4J34hdca2"
      },
      "execution_count": null,
      "outputs": []
    },
    {
      "cell_type": "code",
      "source": [
        "from google.colab import userdata\n",
        "HF_TOKEN=userdata.get(\"hf\")"
      ],
      "metadata": {
        "id": "WUU9AZ3hdcVb"
      },
      "execution_count": null,
      "outputs": []
    },
    {
      "cell_type": "code",
      "source": [
        "import os\n",
        "from weaviate.classes.init import Auth\n",
        "\n",
        "client = weaviate.connect_to_weaviate_cloud(\n",
        "\n",
        "    cluster_url=WEAVIATE_URL,\n",
        "\n",
        "    auth_credentials=Auth.api_key(WEAVIATE_API_KEY),\n",
        "    headers={\n",
        "         \"X-HuggingFace-Api-Key\": HF_TOKEN\n",
        "    },\n",
        "\n",
        ")"
      ],
      "metadata": {
        "id": "0uWNBlpedcSq"
      },
      "execution_count": null,
      "outputs": []
    },
    {
      "cell_type": "code",
      "source": [
        "print(client.is_ready())"
      ],
      "metadata": {
        "id": "v0jtVpdvdcP0"
      },
      "execution_count": null,
      "outputs": []
    },
    {
      "cell_type": "code",
      "source": [
        "!pip install -U langchain-weaviate langchain-core langchain-community"
      ],
      "metadata": {
        "id": "5H6yn5-jhmuU"
      },
      "execution_count": null,
      "outputs": []
    },
    {
      "cell_type": "code",
      "source": [
        "!pip install -qU langchain_google_genai"
      ],
      "metadata": {
        "id": "ohepJCdjutQA"
      },
      "execution_count": null,
      "outputs": []
    },
    {
      "cell_type": "code",
      "source": [
        "import weaviate\n",
        "from langchain_weaviate import WeaviateVectorStore\n",
        "from langchain_google_genai import GoogleGenerativeAIEmbeddings\n",
        "from google.colab import userdata\n",
        "\n",
        "GOOGLE_API_KEY=userdata.get(\"my_key\")\n",
        "\n",
        "embeddings = GoogleGenerativeAIEmbeddings(model=\"models/gemini-embedding-exp-03-07\",google_api_key=GOOGLE_API_KEY)\n",
        "\n",
        "# Assumes 'client' is already defined and connected to your Weaviate instance\n",
        "# e.g., client = weaviate.connect_to_local()\n",
        "\n",
        "# 2. Instantiate the Weaviate vector store using the new class name\n",
        "vectorstore = WeaviateVectorStore(\n",
        "    client=client,\n",
        "    index_name=\"RAG\",\n",
        "    text_key=\"content\",\n",
        "    embedding=embeddings,\n",
        "    # attributes=[],\n",
        ")\n",
        "\n",
        "# 3. Create the retriever with hybrid search settings\n",
        "retriever = vectorstore.as_retriever()"
      ],
      "metadata": {
        "id": "azVrDO_XdcJv"
      },
      "execution_count": null,
      "outputs": []
    },
    {
      "cell_type": "code",
      "source": [
        "from langchain_core.documents import Document\n",
        "docs = [\n",
        "    Document(page_content=\"The first document about LangChain.\"),\n",
        "    Document(page_content=\"The second document discusses vector stores.\"),\n",
        "    Document(page_content=\"The third document is about retrievers.\", metadata={'source': 'file3.txt'}),\n",
        "]"
      ],
      "metadata": {
        "id": "Dn4CJth-t4aw"
      },
      "execution_count": null,
      "outputs": []
    },
    {
      "cell_type": "code",
      "source": [
        "retriever.add_documents(docs)"
      ],
      "metadata": {
        "id": "RwSSK-1ukS2v"
      },
      "execution_count": null,
      "outputs": []
    },
    {
      "cell_type": "code",
      "source": [
        "retriever.invoke(\"vector stores\")"
      ],
      "metadata": {
        "id": "Nl9warFNvUhp"
      },
      "execution_count": null,
      "outputs": []
    },
    {
      "cell_type": "code",
      "source": [
        "vectorstore.similarity_search(\"discuss retrievers\",alpha=0.4,k=2)"
      ],
      "metadata": {
        "id": "7pQ5RIQnSmyR"
      },
      "execution_count": null,
      "outputs": []
    },
    {
      "cell_type": "code",
      "source": [
        "!pip install langchain-cohere"
      ],
      "metadata": {
        "id": "9UpX8bwEgjsb"
      },
      "execution_count": null,
      "outputs": []
    },
    {
      "cell_type": "code",
      "source": [
        "!pip install -U langchain-cohere cohere"
      ],
      "metadata": {
        "id": "xDrbIJxmhw_A"
      },
      "execution_count": null,
      "outputs": []
    },
    {
      "cell_type": "code",
      "source": [
        "!pip uninstall -y langchain-cohere cohere"
      ],
      "metadata": {
        "id": "abeVqHiIiGLk"
      },
      "execution_count": null,
      "outputs": []
    },
    {
      "cell_type": "code",
      "source": [
        "!pip install -U langchain-cohere cohere\n"
      ],
      "metadata": {
        "id": "zJzfEseTiIeq"
      },
      "execution_count": null,
      "outputs": []
    },
    {
      "cell_type": "code",
      "source": [
        "from langchain.retrievers.contextual_compression import ContextualCompressionRetriever\n",
        "from langchain_cohere import CohereRerank"
      ],
      "metadata": {
        "id": "96TXHeS8d2qg"
      },
      "execution_count": null,
      "outputs": []
    },
    {
      "cell_type": "code",
      "source": [
        "compressor = CohereRerank(model=\"rerank-english-v3.0\")\n",
        "compression_retriever = ContextualCompressionRetriever(\n",
        "    base_compressor=compressor, base_retriever=retriever\n",
        ")\n",
        "\n",
        "compressed_docs = compression_retriever.invoke(\n",
        "    \"What did the president say about Ketanji Jackson Brown\"\n",
        ")\n",
        "pretty_print_docs(compressed_docs)"
      ],
      "metadata": {
        "id": "7GxotFX9jPwU"
      },
      "execution_count": null,
      "outputs": []
    }
  ]
}