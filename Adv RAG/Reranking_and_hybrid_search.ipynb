{
  "cells": [
    {
      "cell_type": "code",
      "execution_count": 7,
      "metadata": {
        "id": "Ku5PvXoic2ZQ"
      },
      "outputs": [],
      "source": [
        "!pip install -qU weaviate-client"
      ]
    },
    {
      "cell_type": "code",
      "execution_count": 8,
      "metadata": {
        "id": "nlSVuKC0dcgU"
      },
      "outputs": [],
      "source": [
        "!pip install -qU langchain langchain-community"
      ]
    },
    {
      "cell_type": "code",
      "execution_count": null,
      "metadata": {
        "id": "T7LHkYHodcdb"
      },
      "outputs": [],
      "source": [
        "import weaviate"
      ]
    },
    {
      "cell_type": "code",
      "execution_count": null,
      "metadata": {
        "id": "3ne4J34hdca2"
      },
      "outputs": [],
      "source": [
        "WEAVIATE_URL=\n",
        "WEAVIATE_API_KEY="
      ]
    },
    {
      "cell_type": "code",
      "execution_count": null,
      "metadata": {
        "id": "WUU9AZ3hdcVb"
      },
      "outputs": [],
      "source": [
        "from google.colab import userdata\n",
        "HF_TOKEN=userdata.get(\"hf\")"
      ]
    },
    {
      "cell_type": "code",
      "execution_count": null,
      "metadata": {
        "id": "0uWNBlpedcSq"
      },
      "outputs": [],
      "source": [
        "import os\n",
        "from weaviate.classes.init import Auth\n",
        "\n",
        "client = weaviate.connect_to_weaviate_cloud(\n",
        "\n",
        "    cluster_url=WEAVIATE_URL,\n",
        "\n",
        "    auth_credentials=Auth.api_key(WEAVIATE_API_KEY),\n",
        "    headers={\n",
        "         \"X-HuggingFace-Api-Key\": HF_TOKEN\n",
        "    },\n",
        "\n",
        ")"
      ]
    },
    {
      "cell_type": "code",
      "execution_count": null,
      "metadata": {
        "id": "v0jtVpdvdcP0"
      },
      "outputs": [],
      "source": [
        "print(client.is_ready())"
      ]
    },
    {
      "cell_type": "code",
      "execution_count": null,
      "metadata": {
        "id": "5H6yn5-jhmuU"
      },
      "outputs": [],
      "source": [
        "!pip install -U langchain-weaviate langchain-core langchain-community"
      ]
    },
    {
      "cell_type": "code",
      "execution_count": null,
      "metadata": {
        "id": "ohepJCdjutQA"
      },
      "outputs": [],
      "source": [
        "!pip install -qU langchain_google_genai"
      ]
    },
    {
      "cell_type": "code",
      "execution_count": null,
      "metadata": {
        "id": "azVrDO_XdcJv"
      },
      "outputs": [],
      "source": [
        "import weaviate\n",
        "from langchain_weaviate import WeaviateVectorStore\n",
        "from langchain_google_genai import GoogleGenerativeAIEmbeddings\n",
        "from google.colab import userdata\n",
        "\n",
        "GOOGLE_API_KEY=userdata.get(\"my_key\")\n",
        "\n",
        "embeddings = GoogleGenerativeAIEmbeddings(model=\"models/gemini-embedding-exp-03-07\",google_api_key=GOOGLE_API_KEY)\n",
        "\n",
        "# Assumes 'client' is already defined and connected to your Weaviate instance\n",
        "# e.g., client = weaviate.connect_to_local()\n",
        "\n",
        "# 2. Instantiate the Weaviate vector store using the new class name\n",
        "vectorstore = WeaviateVectorStore(\n",
        "    client=client,\n",
        "    index_name=\"RAG\",\n",
        "    text_key=\"content\",\n",
        "    embedding=embeddings,\n",
        "    # attributes=[],\n",
        ")\n",
        "\n",
        "# 3. Create the retriever with hybrid search settings\n",
        "retriever = vectorstore.as_retriever()"
      ]
    },
    {
      "cell_type": "code",
      "execution_count": null,
      "metadata": {
        "id": "Dn4CJth-t4aw"
      },
      "outputs": [],
      "source": [
        "from langchain_core.documents import Document\n",
        "docs = [\n",
        "    Document(page_content=\"The first document about LangChain.\"),\n",
        "    Document(page_content=\"The second document discusses vector stores.\"),\n",
        "    Document(page_content=\"The third document is about retrievers.\", metadata={'source': 'file3.txt'}),\n",
        "]"
      ]
    },
    {
      "cell_type": "code",
      "execution_count": null,
      "metadata": {
        "id": "RwSSK-1ukS2v"
      },
      "outputs": [],
      "source": [
        "retriever.add_documents(docs)"
      ]
    },
    {
      "cell_type": "code",
      "execution_count": null,
      "metadata": {
        "id": "Nl9warFNvUhp"
      },
      "outputs": [],
      "source": [
        "retriever.invoke(\"vector stores\")"
      ]
    },
    {
      "cell_type": "code",
      "execution_count": null,
      "metadata": {
        "id": "7pQ5RIQnSmyR"
      },
      "outputs": [],
      "source": [
        "vectorstore.similarity_search(\"discuss retrievers\",alpha=0.4,k=2)"
      ]
    },
    {
      "cell_type": "code",
      "execution_count": null,
      "metadata": {
        "id": "9UpX8bwEgjsb"
      },
      "outputs": [],
      "source": [
        "!pip install langchain-cohere"
      ]
    },
    {
      "cell_type": "code",
      "execution_count": null,
      "metadata": {
        "id": "xDrbIJxmhw_A"
      },
      "outputs": [],
      "source": [
        "!pip install -U langchain-cohere cohere"
      ]
    },
    {
      "cell_type": "code",
      "execution_count": null,
      "metadata": {
        "id": "abeVqHiIiGLk"
      },
      "outputs": [],
      "source": [
        "!pip uninstall -y langchain-cohere cohere"
      ]
    },
    {
      "cell_type": "code",
      "execution_count": null,
      "metadata": {
        "id": "zJzfEseTiIeq"
      },
      "outputs": [],
      "source": [
        "!pip install -U langchain-cohere cohere\n"
      ]
    },
    {
      "cell_type": "code",
      "execution_count": null,
      "metadata": {
        "id": "96TXHeS8d2qg"
      },
      "outputs": [],
      "source": [
        "from langchain.retrievers.contextual_compression import ContextualCompressionRetriever\n",
        "from langchain_cohere import CohereRerank"
      ]
    },
    {
      "cell_type": "code",
      "execution_count": null,
      "metadata": {
        "id": "7GxotFX9jPwU"
      },
      "outputs": [],
      "source": [
        "compressor = CohereRerank(model=\"rerank-english-v3.0\")\n",
        "compression_retriever = ContextualCompressionRetriever(\n",
        "    base_compressor=compressor, base_retriever=retriever\n",
        ")\n",
        "\n",
        "compressed_docs = compression_retriever.invoke(\n",
        "    \"retrive\"\n",
        ")\n",
        "print(compressed_docs)"
      ]
    }
  ],
  "metadata": {
    "accelerator": "TPU",
    "colab": {
      "gpuType": "V28",
      "provenance": []
    },
    "kernelspec": {
      "display_name": "Python 3",
      "name": "python3"
    },
    "language_info": {
      "name": "python"
    }
  },
  "nbformat": 4,
  "nbformat_minor": 0
}
