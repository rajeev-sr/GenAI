{
  "nbformat": 4,
  "nbformat_minor": 0,
  "metadata": {
    "colab": {
      "provenance": [],
      "gpuType": "T4"
    },
    "kernelspec": {
      "name": "python3",
      "display_name": "Python 3"
    },
    "language_info": {
      "name": "python"
    },
    "accelerator": "GPU"
  },
  "cells": [
    {
      "cell_type": "code",
      "source": [
        "!pip install -qU langchain"
      ],
      "metadata": {
        "collapsed": true,
        "id": "gk-m7xDv9ONU"
      },
      "execution_count": 7,
      "outputs": []
    },
    {
      "cell_type": "code",
      "source": [
        "!pip install -U weaviate-client"
      ],
      "metadata": {
        "collapsed": true,
        "id": "aLRT-kFI9t7O",
        "colab": {
          "base_uri": "https://localhost:8080/",
          "height": 1000
        },
        "outputId": "e9dfec83-1b2f-46f3-c02e-23660f8c8c42"
      },
      "execution_count": 8,
      "outputs": [
        {
          "output_type": "stream",
          "name": "stdout",
          "text": [
            "Collecting weaviate-client\n",
            "  Downloading weaviate_client-4.15.4-py3-none-any.whl.metadata (3.7 kB)\n",
            "Requirement already satisfied: httpx<0.29.0,>=0.26.0 in /usr/local/lib/python3.11/dist-packages (from weaviate-client) (0.28.1)\n",
            "Collecting validators==0.34.0 (from weaviate-client)\n",
            "  Downloading validators-0.34.0-py3-none-any.whl.metadata (3.8 kB)\n",
            "Collecting authlib<2.0.0,>=1.2.1 (from weaviate-client)\n",
            "  Downloading authlib-1.6.0-py2.py3-none-any.whl.metadata (4.1 kB)\n",
            "Requirement already satisfied: pydantic<3.0.0,>=2.8.0 in /usr/local/lib/python3.11/dist-packages (from weaviate-client) (2.11.7)\n",
            "Requirement already satisfied: grpcio<2.0.0,>=1.66.2 in /usr/local/lib/python3.11/dist-packages (from weaviate-client) (1.73.0)\n",
            "Collecting grpcio-tools<2.0.0,>=1.66.2 (from weaviate-client)\n",
            "  Downloading grpcio_tools-1.73.1-cp311-cp311-manylinux_2_17_x86_64.manylinux2014_x86_64.whl.metadata (5.3 kB)\n",
            "Collecting grpcio-health-checking<2.0.0,>=1.66.2 (from weaviate-client)\n",
            "  Downloading grpcio_health_checking-1.73.1-py3-none-any.whl.metadata (1.0 kB)\n",
            "Collecting deprecation<3.0.0,>=2.1.0 (from weaviate-client)\n",
            "  Downloading deprecation-2.1.0-py2.py3-none-any.whl.metadata (4.6 kB)\n",
            "Requirement already satisfied: cryptography in /usr/local/lib/python3.11/dist-packages (from authlib<2.0.0,>=1.2.1->weaviate-client) (43.0.3)\n",
            "Requirement already satisfied: packaging in /usr/local/lib/python3.11/dist-packages (from deprecation<3.0.0,>=2.1.0->weaviate-client) (24.2)\n",
            "Collecting protobuf<7.0.0,>=6.30.0 (from grpcio-health-checking<2.0.0,>=1.66.2->weaviate-client)\n",
            "  Downloading protobuf-6.31.1-cp39-abi3-manylinux2014_x86_64.whl.metadata (593 bytes)\n",
            "Collecting grpcio<2.0.0,>=1.66.2 (from weaviate-client)\n",
            "  Downloading grpcio-1.73.1-cp311-cp311-manylinux_2_17_x86_64.manylinux2014_x86_64.whl.metadata (3.8 kB)\n",
            "Requirement already satisfied: setuptools in /usr/local/lib/python3.11/dist-packages (from grpcio-tools<2.0.0,>=1.66.2->weaviate-client) (75.2.0)\n",
            "Requirement already satisfied: anyio in /usr/local/lib/python3.11/dist-packages (from httpx<0.29.0,>=0.26.0->weaviate-client) (4.9.0)\n",
            "Requirement already satisfied: certifi in /usr/local/lib/python3.11/dist-packages (from httpx<0.29.0,>=0.26.0->weaviate-client) (2025.6.15)\n",
            "Requirement already satisfied: httpcore==1.* in /usr/local/lib/python3.11/dist-packages (from httpx<0.29.0,>=0.26.0->weaviate-client) (1.0.9)\n",
            "Requirement already satisfied: idna in /usr/local/lib/python3.11/dist-packages (from httpx<0.29.0,>=0.26.0->weaviate-client) (3.10)\n",
            "Requirement already satisfied: h11>=0.16 in /usr/local/lib/python3.11/dist-packages (from httpcore==1.*->httpx<0.29.0,>=0.26.0->weaviate-client) (0.16.0)\n",
            "Requirement already satisfied: annotated-types>=0.6.0 in /usr/local/lib/python3.11/dist-packages (from pydantic<3.0.0,>=2.8.0->weaviate-client) (0.7.0)\n",
            "Requirement already satisfied: pydantic-core==2.33.2 in /usr/local/lib/python3.11/dist-packages (from pydantic<3.0.0,>=2.8.0->weaviate-client) (2.33.2)\n",
            "Requirement already satisfied: typing-extensions>=4.12.2 in /usr/local/lib/python3.11/dist-packages (from pydantic<3.0.0,>=2.8.0->weaviate-client) (4.14.0)\n",
            "Requirement already satisfied: typing-inspection>=0.4.0 in /usr/local/lib/python3.11/dist-packages (from pydantic<3.0.0,>=2.8.0->weaviate-client) (0.4.1)\n",
            "Requirement already satisfied: sniffio>=1.1 in /usr/local/lib/python3.11/dist-packages (from anyio->httpx<0.29.0,>=0.26.0->weaviate-client) (1.3.1)\n",
            "Requirement already satisfied: cffi>=1.12 in /usr/local/lib/python3.11/dist-packages (from cryptography->authlib<2.0.0,>=1.2.1->weaviate-client) (1.17.1)\n",
            "Requirement already satisfied: pycparser in /usr/local/lib/python3.11/dist-packages (from cffi>=1.12->cryptography->authlib<2.0.0,>=1.2.1->weaviate-client) (2.22)\n",
            "Downloading weaviate_client-4.15.4-py3-none-any.whl (432 kB)\n",
            "\u001b[2K   \u001b[90m━━━━━━━━━━━━━━━━━━━━━━━━━━━━━━━━━━━━━━━━\u001b[0m \u001b[32m433.0/433.0 kB\u001b[0m \u001b[31m8.2 MB/s\u001b[0m eta \u001b[36m0:00:00\u001b[0m\n",
            "\u001b[?25hDownloading validators-0.34.0-py3-none-any.whl (43 kB)\n",
            "\u001b[2K   \u001b[90m━━━━━━━━━━━━━━━━━━━━━━━━━━━━━━━━━━━━━━━━\u001b[0m \u001b[32m43.5/43.5 kB\u001b[0m \u001b[31m4.6 MB/s\u001b[0m eta \u001b[36m0:00:00\u001b[0m\n",
            "\u001b[?25hDownloading authlib-1.6.0-py2.py3-none-any.whl (239 kB)\n",
            "\u001b[2K   \u001b[90m━━━━━━━━━━━━━━━━━━━━━━━━━━━━━━━━━━━━━━━━\u001b[0m \u001b[32m240.0/240.0 kB\u001b[0m \u001b[31m25.1 MB/s\u001b[0m eta \u001b[36m0:00:00\u001b[0m\n",
            "\u001b[?25hDownloading deprecation-2.1.0-py2.py3-none-any.whl (11 kB)\n",
            "Downloading grpcio_health_checking-1.73.1-py3-none-any.whl (18 kB)\n",
            "Downloading grpcio-1.73.1-cp311-cp311-manylinux_2_17_x86_64.manylinux2014_x86_64.whl (6.0 MB)\n",
            "\u001b[2K   \u001b[90m━━━━━━━━━━━━━━━━━━━━━━━━━━━━━━━━━━━━━━━━\u001b[0m \u001b[32m6.0/6.0 MB\u001b[0m \u001b[31m76.1 MB/s\u001b[0m eta \u001b[36m0:00:00\u001b[0m\n",
            "\u001b[?25hDownloading grpcio_tools-1.73.1-cp311-cp311-manylinux_2_17_x86_64.manylinux2014_x86_64.whl (2.7 MB)\n",
            "\u001b[2K   \u001b[90m━━━━━━━━━━━━━━━━━━━━━━━━━━━━━━━━━━━━━━━━\u001b[0m \u001b[32m2.7/2.7 MB\u001b[0m \u001b[31m65.8 MB/s\u001b[0m eta \u001b[36m0:00:00\u001b[0m\n",
            "\u001b[?25hDownloading protobuf-6.31.1-cp39-abi3-manylinux2014_x86_64.whl (321 kB)\n",
            "\u001b[2K   \u001b[90m━━━━━━━━━━━━━━━━━━━━━━━━━━━━━━━━━━━━━━━━\u001b[0m \u001b[32m321.1/321.1 kB\u001b[0m \u001b[31m29.3 MB/s\u001b[0m eta \u001b[36m0:00:00\u001b[0m\n",
            "\u001b[?25hInstalling collected packages: validators, protobuf, grpcio, deprecation, grpcio-tools, grpcio-health-checking, authlib, weaviate-client\n",
            "  Attempting uninstall: protobuf\n",
            "    Found existing installation: protobuf 5.29.5\n",
            "    Uninstalling protobuf-5.29.5:\n",
            "      Successfully uninstalled protobuf-5.29.5\n",
            "  Attempting uninstall: grpcio\n",
            "    Found existing installation: grpcio 1.73.0\n",
            "    Uninstalling grpcio-1.73.0:\n",
            "      Successfully uninstalled grpcio-1.73.0\n",
            "\u001b[31mERROR: pip's dependency resolver does not currently take into account all the packages that are installed. This behaviour is the source of the following dependency conflicts.\n",
            "google-ai-generativelanguage 0.6.15 requires protobuf!=4.21.0,!=4.21.1,!=4.21.2,!=4.21.3,!=4.21.4,!=4.21.5,<6.0.0dev,>=3.20.2, but you have protobuf 6.31.1 which is incompatible.\n",
            "grpcio-status 1.71.0 requires protobuf<6.0dev,>=5.26.1, but you have protobuf 6.31.1 which is incompatible.\n",
            "ydf 0.12.0 requires protobuf<6.0.0,>=5.29.1, but you have protobuf 6.31.1 which is incompatible.\n",
            "tensorflow-metadata 1.17.1 requires protobuf<6.0.0,>=4.25.2; python_version >= \"3.11\", but you have protobuf 6.31.1 which is incompatible.\n",
            "tensorflow 2.18.0 requires protobuf!=4.21.0,!=4.21.1,!=4.21.2,!=4.21.3,!=4.21.4,!=4.21.5,<6.0.0dev,>=3.20.3, but you have protobuf 6.31.1 which is incompatible.\u001b[0m\u001b[31m\n",
            "\u001b[0mSuccessfully installed authlib-1.6.0 deprecation-2.1.0 grpcio-1.73.1 grpcio-health-checking-1.73.1 grpcio-tools-1.73.1 protobuf-6.31.1 validators-0.34.0 weaviate-client-4.15.4\n"
          ]
        },
        {
          "output_type": "display_data",
          "data": {
            "application/vnd.colab-display-data+json": {
              "pip_warning": {
                "packages": [
                  "google"
                ]
              },
              "id": "33ee524e664e47928ce8635783ce6b37"
            }
          },
          "metadata": {}
        }
      ]
    },
    {
      "cell_type": "code",
      "source": [
        "from IPython.display import display, Markdown"
      ],
      "metadata": {
        "id": "imvARc8Liyf0"
      },
      "execution_count": 9,
      "outputs": []
    },
    {
      "cell_type": "code",
      "execution_count": 10,
      "metadata": {
        "id": "Gh0_UhJCyHN7"
      },
      "outputs": [],
      "source": [
        "import weaviate\n",
        "from weaviate.classes.init import Auth"
      ]
    },
    {
      "cell_type": "code",
      "source": [
        "from google.colab import userdata\n",
        "weaviate_url = userdata.get(\"weviate_cluster\")\n",
        "weaviate_api_key = userdata.get(\"weviate_key\")"
      ],
      "metadata": {
        "id": "DZ135LBp_gbe"
      },
      "execution_count": 11,
      "outputs": []
    },
    {
      "cell_type": "code",
      "source": [
        "client=weaviate.connect_to_weaviate_cloud(\n",
        "    cluster_url=weaviate_url,\n",
        "    auth_credentials=Auth.api_key(weaviate_api_key),\n",
        ")"
      ],
      "metadata": {
        "id": "2H5pwo8nBPwH"
      },
      "execution_count": 12,
      "outputs": []
    },
    {
      "cell_type": "code",
      "source": [
        "!pip install -qU sentence-transformers"
      ],
      "metadata": {
        "collapsed": true,
        "id": "KrjXY0aQCEeL"
      },
      "execution_count": 21,
      "outputs": []
    },
    {
      "cell_type": "code",
      "source": [
        "!pip install -qU langchain-community pypdf"
      ],
      "metadata": {
        "collapsed": true,
        "id": "bNuESFskDGvA"
      },
      "execution_count": 22,
      "outputs": []
    },
    {
      "cell_type": "code",
      "source": [
        "from langchain.embeddings import HuggingFaceEmbeddings\n",
        "model_name = \"sentence-transformers/all-mpnet-base-v2\"\n",
        "model_kwargs = {\"device\": \"cpu\"}\n",
        "embeddings = HuggingFaceEmbeddings(\n",
        "    model_name=model_name,\n",
        "    model_kwargs=model_kwargs\n",
        ")"
      ],
      "metadata": {
        "id": "-3r52RYhCeo7"
      },
      "execution_count": 24,
      "outputs": []
    },
    {
      "cell_type": "code",
      "source": [
        "from langchain_community.document_loaders import PyPDFLoader\n",
        "pages=PyPDFLoader(\"/content/student_handbook.pdf\",extract_images=True).load()"
      ],
      "metadata": {
        "id": "yutLLir2DXpa"
      },
      "execution_count": 26,
      "outputs": []
    },
    {
      "cell_type": "code",
      "source": [
        "# pages"
      ],
      "metadata": {
        "id": "fq5xTbcUFHc5"
      },
      "execution_count": 27,
      "outputs": []
    },
    {
      "cell_type": "code",
      "source": [
        "from langchain.text_splitter import RecursiveCharacterTextSplitter\n",
        "text_splitter=RecursiveCharacterTextSplitter(chunk_size=1000,chunk_overlap=50)\n",
        "docs=text_splitter.split_documents(pages)"
      ],
      "metadata": {
        "id": "WYE6Y-vpFal_"
      },
      "execution_count": 28,
      "outputs": []
    },
    {
      "cell_type": "code",
      "source": [
        "# docs"
      ],
      "metadata": {
        "id": "5JRCBM6VFwxK"
      },
      "execution_count": 29,
      "outputs": []
    },
    {
      "cell_type": "code",
      "source": [
        "!pip install langchain-weaviate"
      ],
      "metadata": {
        "id": "divo0xDGIM_j",
        "colab": {
          "base_uri": "https://localhost:8080/"
        },
        "outputId": "d9090c06-4323-49e5-d3e6-5e801524d285"
      },
      "execution_count": 30,
      "outputs": [
        {
          "output_type": "stream",
          "name": "stdout",
          "text": [
            "Collecting langchain-weaviate\n",
            "  Downloading langchain_weaviate-0.0.5-py3-none-any.whl.metadata (2.7 kB)\n",
            "Requirement already satisfied: langchain-core<0.4,>=0.1.33 in /usr/local/lib/python3.11/dist-packages (from langchain-weaviate) (0.3.66)\n",
            "Requirement already satisfied: numpy<3.0,>=1.26.2 in /usr/local/lib/python3.11/dist-packages (from langchain-weaviate) (2.0.2)\n",
            "Requirement already satisfied: simsimd<7.0.0,>=6.2.1 in /usr/local/lib/python3.11/dist-packages (from langchain-weaviate) (6.4.9)\n",
            "Requirement already satisfied: weaviate-client<5.0.0,>=4.0.0 in /usr/local/lib/python3.11/dist-packages (from langchain-weaviate) (4.15.4)\n",
            "Requirement already satisfied: langsmith>=0.3.45 in /usr/local/lib/python3.11/dist-packages (from langchain-core<0.4,>=0.1.33->langchain-weaviate) (0.4.1)\n",
            "Requirement already satisfied: tenacity!=8.4.0,<10.0.0,>=8.1.0 in /usr/local/lib/python3.11/dist-packages (from langchain-core<0.4,>=0.1.33->langchain-weaviate) (8.5.0)\n",
            "Requirement already satisfied: jsonpatch<2.0,>=1.33 in /usr/local/lib/python3.11/dist-packages (from langchain-core<0.4,>=0.1.33->langchain-weaviate) (1.33)\n",
            "Requirement already satisfied: PyYAML>=5.3 in /usr/local/lib/python3.11/dist-packages (from langchain-core<0.4,>=0.1.33->langchain-weaviate) (6.0.2)\n",
            "Requirement already satisfied: packaging<25,>=23.2 in /usr/local/lib/python3.11/dist-packages (from langchain-core<0.4,>=0.1.33->langchain-weaviate) (24.2)\n",
            "Requirement already satisfied: typing-extensions>=4.7 in /usr/local/lib/python3.11/dist-packages (from langchain-core<0.4,>=0.1.33->langchain-weaviate) (4.14.0)\n",
            "Requirement already satisfied: pydantic>=2.7.4 in /usr/local/lib/python3.11/dist-packages (from langchain-core<0.4,>=0.1.33->langchain-weaviate) (2.11.7)\n",
            "Requirement already satisfied: httpx<0.29.0,>=0.26.0 in /usr/local/lib/python3.11/dist-packages (from weaviate-client<5.0.0,>=4.0.0->langchain-weaviate) (0.28.1)\n",
            "Requirement already satisfied: validators==0.34.0 in /usr/local/lib/python3.11/dist-packages (from weaviate-client<5.0.0,>=4.0.0->langchain-weaviate) (0.34.0)\n",
            "Requirement already satisfied: authlib<2.0.0,>=1.2.1 in /usr/local/lib/python3.11/dist-packages (from weaviate-client<5.0.0,>=4.0.0->langchain-weaviate) (1.6.0)\n",
            "Requirement already satisfied: grpcio<2.0.0,>=1.66.2 in /usr/local/lib/python3.11/dist-packages (from weaviate-client<5.0.0,>=4.0.0->langchain-weaviate) (1.73.1)\n",
            "Requirement already satisfied: grpcio-tools<2.0.0,>=1.66.2 in /usr/local/lib/python3.11/dist-packages (from weaviate-client<5.0.0,>=4.0.0->langchain-weaviate) (1.73.1)\n",
            "Requirement already satisfied: grpcio-health-checking<2.0.0,>=1.66.2 in /usr/local/lib/python3.11/dist-packages (from weaviate-client<5.0.0,>=4.0.0->langchain-weaviate) (1.73.1)\n",
            "Requirement already satisfied: deprecation<3.0.0,>=2.1.0 in /usr/local/lib/python3.11/dist-packages (from weaviate-client<5.0.0,>=4.0.0->langchain-weaviate) (2.1.0)\n",
            "Requirement already satisfied: cryptography in /usr/local/lib/python3.11/dist-packages (from authlib<2.0.0,>=1.2.1->weaviate-client<5.0.0,>=4.0.0->langchain-weaviate) (43.0.3)\n",
            "Requirement already satisfied: protobuf<7.0.0,>=6.30.0 in /usr/local/lib/python3.11/dist-packages (from grpcio-health-checking<2.0.0,>=1.66.2->weaviate-client<5.0.0,>=4.0.0->langchain-weaviate) (6.31.1)\n",
            "Requirement already satisfied: setuptools in /usr/local/lib/python3.11/dist-packages (from grpcio-tools<2.0.0,>=1.66.2->weaviate-client<5.0.0,>=4.0.0->langchain-weaviate) (75.2.0)\n",
            "Requirement already satisfied: anyio in /usr/local/lib/python3.11/dist-packages (from httpx<0.29.0,>=0.26.0->weaviate-client<5.0.0,>=4.0.0->langchain-weaviate) (4.9.0)\n",
            "Requirement already satisfied: certifi in /usr/local/lib/python3.11/dist-packages (from httpx<0.29.0,>=0.26.0->weaviate-client<5.0.0,>=4.0.0->langchain-weaviate) (2025.6.15)\n",
            "Requirement already satisfied: httpcore==1.* in /usr/local/lib/python3.11/dist-packages (from httpx<0.29.0,>=0.26.0->weaviate-client<5.0.0,>=4.0.0->langchain-weaviate) (1.0.9)\n",
            "Requirement already satisfied: idna in /usr/local/lib/python3.11/dist-packages (from httpx<0.29.0,>=0.26.0->weaviate-client<5.0.0,>=4.0.0->langchain-weaviate) (3.10)\n",
            "Requirement already satisfied: h11>=0.16 in /usr/local/lib/python3.11/dist-packages (from httpcore==1.*->httpx<0.29.0,>=0.26.0->weaviate-client<5.0.0,>=4.0.0->langchain-weaviate) (0.16.0)\n",
            "Requirement already satisfied: jsonpointer>=1.9 in /usr/local/lib/python3.11/dist-packages (from jsonpatch<2.0,>=1.33->langchain-core<0.4,>=0.1.33->langchain-weaviate) (3.0.0)\n",
            "Requirement already satisfied: orjson<4.0.0,>=3.9.14 in /usr/local/lib/python3.11/dist-packages (from langsmith>=0.3.45->langchain-core<0.4,>=0.1.33->langchain-weaviate) (3.10.18)\n",
            "Requirement already satisfied: requests<3,>=2 in /usr/local/lib/python3.11/dist-packages (from langsmith>=0.3.45->langchain-core<0.4,>=0.1.33->langchain-weaviate) (2.32.3)\n",
            "Requirement already satisfied: requests-toolbelt<2.0.0,>=1.0.0 in /usr/local/lib/python3.11/dist-packages (from langsmith>=0.3.45->langchain-core<0.4,>=0.1.33->langchain-weaviate) (1.0.0)\n",
            "Requirement already satisfied: zstandard<0.24.0,>=0.23.0 in /usr/local/lib/python3.11/dist-packages (from langsmith>=0.3.45->langchain-core<0.4,>=0.1.33->langchain-weaviate) (0.23.0)\n",
            "Requirement already satisfied: annotated-types>=0.6.0 in /usr/local/lib/python3.11/dist-packages (from pydantic>=2.7.4->langchain-core<0.4,>=0.1.33->langchain-weaviate) (0.7.0)\n",
            "Requirement already satisfied: pydantic-core==2.33.2 in /usr/local/lib/python3.11/dist-packages (from pydantic>=2.7.4->langchain-core<0.4,>=0.1.33->langchain-weaviate) (2.33.2)\n",
            "Requirement already satisfied: typing-inspection>=0.4.0 in /usr/local/lib/python3.11/dist-packages (from pydantic>=2.7.4->langchain-core<0.4,>=0.1.33->langchain-weaviate) (0.4.1)\n",
            "Requirement already satisfied: charset-normalizer<4,>=2 in /usr/local/lib/python3.11/dist-packages (from requests<3,>=2->langsmith>=0.3.45->langchain-core<0.4,>=0.1.33->langchain-weaviate) (3.4.2)\n",
            "Requirement already satisfied: urllib3<3,>=1.21.1 in /usr/local/lib/python3.11/dist-packages (from requests<3,>=2->langsmith>=0.3.45->langchain-core<0.4,>=0.1.33->langchain-weaviate) (2.4.0)\n",
            "Requirement already satisfied: sniffio>=1.1 in /usr/local/lib/python3.11/dist-packages (from anyio->httpx<0.29.0,>=0.26.0->weaviate-client<5.0.0,>=4.0.0->langchain-weaviate) (1.3.1)\n",
            "Requirement already satisfied: cffi>=1.12 in /usr/local/lib/python3.11/dist-packages (from cryptography->authlib<2.0.0,>=1.2.1->weaviate-client<5.0.0,>=4.0.0->langchain-weaviate) (1.17.1)\n",
            "Requirement already satisfied: pycparser in /usr/local/lib/python3.11/dist-packages (from cffi>=1.12->cryptography->authlib<2.0.0,>=1.2.1->weaviate-client<5.0.0,>=4.0.0->langchain-weaviate) (2.22)\n",
            "Downloading langchain_weaviate-0.0.5-py3-none-any.whl (10 kB)\n",
            "Installing collected packages: langchain-weaviate\n",
            "Successfully installed langchain-weaviate-0.0.5\n"
          ]
        }
      ]
    },
    {
      "cell_type": "code",
      "source": [
        "from langchain_weaviate.vectorstores import WeaviateVectorStore\n",
        "vector_db = WeaviateVectorStore.from_documents(\n",
        "    documents=docs,\n",
        "    embedding=embeddings,\n",
        "    client=client,\n",
        "    by_text=False\n",
        "\n",
        "    # docs, embeddings, client=client, by_text=False\n",
        ")"
      ],
      "metadata": {
        "id": "VCm6Ev_wF1eJ"
      },
      "execution_count": 31,
      "outputs": []
    },
    {
      "cell_type": "code",
      "source": [
        "print(vector_db.similarity_search('what is the registration process in iit bhilai?',k=3)[0].page_content)"
      ],
      "metadata": {
        "colab": {
          "base_uri": "https://localhost:8080/"
        },
        "id": "HvnVYHI9IbYb",
        "outputId": "8656d223-3999-4366-b333-fa69e1ef50ae"
      },
      "execution_count": 32,
      "outputs": [
        {
          "output_type": "stream",
          "name": "stdout",
          "text": [
            "parts of this process rests with the students. If a student fails to complete the registration \n",
            "process within the specified time, he/she shall be deemed to be on una uthorized absence \n",
            "from the Institute and suitable disciplinary action including the termination of the studentship \n",
            "shall be carried out by the Institute. \n",
            "Academic Pre-registration \n",
            "• All students must pre -register for the courses scheduled to be taken in the next \n",
            "semester as per schedule specified in the Academic Calendar. \n",
            "• It will be the responsibility of the students to ensure that they meet the eligibility criteria, \n",
            "pre-requisite criteria if any. Students may only register for the number of courses as \n",
            "permitted by semester load rules and must also ensure that there are no timetable \n",
            "clashes amongst the courses. The students shall need to submit the fully filled \n",
            "registration form  along with the permissions from the instructors if needed  for the \n",
            "approval of the DPGC/DUGC.\n"
          ]
        }
      ]
    },
    {
      "cell_type": "code",
      "source": [
        "print(vector_db.similarity_search('what is the registration process in iit bhilai?',k=3)[1].page_content)"
      ],
      "metadata": {
        "colab": {
          "base_uri": "https://localhost:8080/"
        },
        "id": "Hn60jtOZJ4Nv",
        "outputId": "077649a1-d109-4b28-c107-5e965e446857"
      },
      "execution_count": 33,
      "outputs": [
        {
          "output_type": "stream",
          "name": "stdout",
          "text": [
            "registration must obtain prior permission from Dean of Academic Affairs. They shall be \n",
            "treated as non-reporting students if they fail to do so. \n",
            "Administrative Registration \n",
            "• All students must pay for all dues, including the hostel dues, academic fees, any other \n",
            "dues that the Institute may prescribe from time to time etc. during the administrative \n",
            "registration. \n",
            "• All students whose ID card expires must get it renewed as pe r the norms of the \n",
            "Institute. \n",
            "• All students must carry out registration of facilities such as various labs, library etc. as \n",
            "specified by the Institute during the administrative registration. \n",
            "• Any failure to do the administrative registration as per the stipu lated time table shall \n",
            "attract penalty, disciplinary action and/or termination of the program. \n",
            "• A doctorate student who has submitted the thesis and is waiting for defense shall \n",
            "register for zero credits if he/she wishes to stay on campus. The student shall pay all\n"
          ]
        }
      ]
    },
    {
      "cell_type": "code",
      "source": [
        "from re import template\n",
        "from langchain.prompts import ChatPromptTemplate\n",
        "\n",
        "template=\"\"\"You are an assistant for question-answering tasks.\n",
        "Use the following pieces of retrieved context to answer the question.\n",
        "If you don't know the answer, just say this is not mentioned in the student-handbook.\n",
        "and keep the answer concise.\n",
        "Question: {question}\n",
        "Context: {context}\n",
        "Answer:\n",
        "\"\"\""
      ],
      "metadata": {
        "id": "r7_9t5msKIMr"
      },
      "execution_count": 34,
      "outputs": []
    },
    {
      "cell_type": "code",
      "source": [
        "prompt=ChatPromptTemplate.from_template(template)\n",
        "prompt"
      ],
      "metadata": {
        "colab": {
          "base_uri": "https://localhost:8080/"
        },
        "id": "yjcydWZMKs0g",
        "outputId": "0e758cc9-1aa9-467b-c849-4c7fbf313e07"
      },
      "execution_count": 35,
      "outputs": [
        {
          "output_type": "execute_result",
          "data": {
            "text/plain": [
              "ChatPromptTemplate(input_variables=['context', 'question'], input_types={}, partial_variables={}, messages=[HumanMessagePromptTemplate(prompt=PromptTemplate(input_variables=['context', 'question'], input_types={}, partial_variables={}, template=\"You are an assistant for question-answering tasks.\\nUse the following pieces of retrieved context to answer the question.\\nIf you don't know the answer, just say this is not mentioned in the student-handbook.\\nand keep the answer concise.\\nQuestion: {question}\\nContext: {context}\\nAnswer:\\n\"), additional_kwargs={})])"
            ]
          },
          "metadata": {},
          "execution_count": 35
        }
      ]
    },
    {
      "cell_type": "code",
      "source": [
        "!pip install -qU langchain-huggingface"
      ],
      "metadata": {
        "id": "VabfbiR-PjAk"
      },
      "execution_count": 36,
      "outputs": []
    },
    {
      "cell_type": "code",
      "source": [
        "from langchain_huggingface import HuggingFaceEndpoint\n",
        "huggingface_token=userdata.get(\"h_key\")"
      ],
      "metadata": {
        "id": "XIoaadCBK3b-"
      },
      "execution_count": 37,
      "outputs": []
    },
    {
      "cell_type": "code",
      "source": [
        "from langchain_huggingface import ChatHuggingFace, HuggingFaceEndpoint\n",
        "\n",
        "llm = HuggingFaceEndpoint(\n",
        "    repo_id=\"mistralai/Mistral-7B-Instruct-v0.3\",\n",
        "    task=\"text-generation\",\n",
        "    huggingfacehub_api_token=huggingface_token,\n",
        "    max_new_tokens=512,\n",
        "    do_sample=False,\n",
        "    repetition_penalty=1.03\n",
        ")\n",
        "\n",
        "chat_model = ChatHuggingFace(llm=llm)"
      ],
      "metadata": {
        "id": "E-0orH3Ad4Bj"
      },
      "execution_count": 38,
      "outputs": []
    },
    {
      "cell_type": "code",
      "source": [
        "chat_model.invoke(\"what is the registration process in iit bhilai?\").content"
      ],
      "metadata": {
        "colab": {
          "base_uri": "https://localhost:8080/",
          "height": 125
        },
        "id": "1crpLfcoe6MA",
        "outputId": "affa6779-6b9c-4f57-8799-0775c4653f5c"
      },
      "execution_count": 39,
      "outputs": [
        {
          "output_type": "execute_result",
          "data": {
            "text/plain": [
              "\"The registration process for IIT Bhilai is as follows:\\n1. Visit the official website of IIT Bhilai.\\n2. Click on the 'Admissions' tab.\\n3. Click on the 'Undergraduate Admissions' tab.\\n4. Click on the 'Registration' link.\\n5. Fill in the necessary details such as name, email, phone number, and password.\\n6. Submit the registration form.\\n7. You will receive a registration confirmation on your registered email ID.\\n8. After registration, you can apply for various undergraduate programs offered by IIT Bhilai.\\n\""
            ],
            "application/vnd.google.colaboratory.intrinsic+json": {
              "type": "string"
            }
          },
          "metadata": {},
          "execution_count": 39
        }
      ]
    },
    {
      "cell_type": "code",
      "source": [
        "from langchain.schema.runnable import RunnablePassthrough\n",
        "from langchain.schema.output_parser import StrOutputParser\n",
        "\n",
        "output_parser=StrOutputParser()"
      ],
      "metadata": {
        "id": "NEgeA0gWNOwa"
      },
      "execution_count": 40,
      "outputs": []
    },
    {
      "cell_type": "code",
      "source": [
        "retriever=vector_db.as_retriever()"
      ],
      "metadata": {
        "id": "nSn7DxorNmxL"
      },
      "execution_count": 41,
      "outputs": []
    },
    {
      "cell_type": "code",
      "source": [
        "retriever.get_relevant_documents(\"what is the registration process in iit bhilai?\")"
      ],
      "metadata": {
        "colab": {
          "base_uri": "https://localhost:8080/"
        },
        "id": "JXLt6aqiNvd_",
        "outputId": "2c8b4e4c-7de2-494b-bdd9-5af0cfc0bd0c"
      },
      "execution_count": 42,
      "outputs": [
        {
          "output_type": "stream",
          "name": "stderr",
          "text": [
            "/tmp/ipython-input-42-651517415.py:1: LangChainDeprecationWarning: The method `BaseRetriever.get_relevant_documents` was deprecated in langchain-core 0.1.46 and will be removed in 1.0. Use :meth:`~invoke` instead.\n",
            "  retriever.get_relevant_documents(\"what is the registration process in iit bhilai?\")\n"
          ]
        },
        {
          "output_type": "execute_result",
          "data": {
            "text/plain": [
              "[Document(metadata={'author': 'IIT BHILAI', 'moddate': datetime.datetime(2023, 6, 30, 19, 57, 14, tzinfo=datetime.timezone(datetime.timedelta(seconds=19800))), 'page': 10.0, 'page_label': '11', 'total_pages': 28.0, 'creationdate': datetime.datetime(2023, 6, 30, 19, 57, 14, tzinfo=datetime.timezone(datetime.timedelta(seconds=19800))), 'source': '/content/student_handbook.pdf', 'producer': 'Microsoft® Word for Microsoft 365', 'creator': 'Microsoft® Word for Microsoft 365'}, page_content='parts of this process rests with the students. If a student fails to complete the registration \\nprocess within the specified time, he/she shall be deemed to be on una uthorized absence \\nfrom the Institute and suitable disciplinary action including the termination of the studentship \\nshall be carried out by the Institute. \\nAcademic Pre-registration \\n• All students must pre -register for the courses scheduled to be taken in the next \\nsemester as per schedule specified in the Academic Calendar. \\n• It will be the responsibility of the students to ensure that they meet the eligibility criteria, \\npre-requisite criteria if any. Students may only register for the number of courses as \\npermitted by semester load rules and must also ensure that there are no timetable \\nclashes amongst the courses. The students shall need to submit the fully filled \\nregistration form  along with the permissions from the instructors if needed  for the \\napproval of the DPGC/DUGC.'),\n",
              " Document(metadata={'author': 'IIT BHILAI', 'moddate': datetime.datetime(2023, 6, 30, 19, 57, 14, tzinfo=datetime.timezone(datetime.timedelta(seconds=19800))), 'page': 11.0, 'page_label': '12', 'total_pages': 28.0, 'creationdate': datetime.datetime(2023, 6, 30, 19, 57, 14, tzinfo=datetime.timezone(datetime.timedelta(seconds=19800))), 'source': '/content/student_handbook.pdf', 'producer': 'Microsoft® Word for Microsoft 365', 'creator': 'Microsoft® Word for Microsoft 365'}, page_content='registration must obtain prior permission from Dean of Academic Affairs. They shall be \\ntreated as non-reporting students if they fail to do so. \\nAdministrative Registration \\n• All students must pay for all dues, including the hostel dues, academic fees, any other \\ndues that the Institute may prescribe from time to time etc. during the administrative \\nregistration. \\n• All students whose ID card expires must get it renewed as pe r the norms of the \\nInstitute. \\n• All students must carry out registration of facilities such as various labs, library etc. as \\nspecified by the Institute during the administrative registration. \\n• Any failure to do the administrative registration as per the stipu lated time table shall \\nattract penalty, disciplinary action and/or termination of the program. \\n• A doctorate student who has submitted the thesis and is waiting for defense shall \\nregister for zero credits if he/she wishes to stay on campus. The student shall pay all'),\n",
              " Document(metadata={'author': 'IIT BHILAI', 'moddate': datetime.datetime(2023, 6, 30, 19, 57, 14, tzinfo=datetime.timezone(datetime.timedelta(seconds=19800))), 'page': 25.0, 'page_label': '26', 'total_pages': 28.0, 'creationdate': datetime.datetime(2023, 6, 30, 19, 57, 14, tzinfo=datetime.timezone(datetime.timedelta(seconds=19800))), 'source': '/content/student_handbook.pdf', 'producer': 'Microsoft® Word for Microsoft 365', 'creator': 'Microsoft® Word for Microsoft 365'}, page_content='26 \\n \\nS. \\nNo. \\nName of \\nScholarshi\\np \\nEligibility Criteria Selection \\nProcess \\nBenefits \\n1. Merit-cum-\\nMeans \\n(MCM) \\nScholarship \\nMEANS: Combined parental income \\nshall not exceed Rs. 5 Lakhs for General \\nCategory students and Rs. 6 Lakhs in \\ncase of OBC \\nstudents.                                                    \\nMERIT: All students of first semester, \\nwho are admitted to BTech program of \\nIIT Bhilai. For other semesters, the \\nstudent should have a CGPA of 6.0 or \\nabove and should have no F grade in the \\nprevious regular semester. \\nOther eligibility criteria:                         \\n1. The student should belong to General \\nor OBC \\ncategory.                                                   \\n  2. The student should not have been \\npenalized because of unfair means or \\nindiscipline by IIT Bhilai. A student is \\neligible for applying for the scholarship \\nONLY if he/she is eligible under ALL the \\neligibility criteria. \\nAn \\ninstitute-\\nwide \\nscholarsh\\nip and \\nprizes \\ncommitte\\ne shall'),\n",
              " Document(metadata={'author': 'IIT BHILAI', 'moddate': datetime.datetime(2023, 6, 30, 19, 57, 14, tzinfo=datetime.timezone(datetime.timedelta(seconds=19800))), 'page': 6.0, 'page_label': '7', 'total_pages': 28.0, 'creationdate': datetime.datetime(2023, 6, 30, 19, 57, 14, tzinfo=datetime.timezone(datetime.timedelta(seconds=19800))), 'source': '/content/student_handbook.pdf', 'producer': 'Microsoft® Word for Microsoft 365', 'creator': 'Microsoft® Word for Microsoft 365'}, page_content='student need s to complete the credit requirements for th e courses. There is a prescribed \\nnominal duration of the program while the students may complete in lesser time or may invest \\nmore time to move to the next higher level of system. \\nIIT Bhilai offers the following programs. \\n1. BTech: The nominal Bachelor of Technology degree wherein a student is admitted as \\nper the admission process. \\n2. BTech (Honours): The enhanced Bachelor of Technology degree wherein a student \\nadmitted to a BTech program may choose to carry out additional courses/project in \\nhis/her own disciplin e or another discipline. BTech (Honours) is a program where \\nstudents are not admitted initially but may opt to convert their BTech program. \\n3. MSc: The Master of Science degree program offered by Departments of Physics, \\nChemistry and Mathematics wherein a stu dent is admitted as per the admission \\nprocess. \\n4. MTech: The nominal Master of Technology degree program wherein a student is')]"
            ]
          },
          "metadata": {},
          "execution_count": 42
        }
      ]
    },
    {
      "cell_type": "code",
      "source": [
        "rag_chain = (\n",
        "    {\"context\": retriever, \"question\": RunnablePassthrough()}\n",
        "    | prompt\n",
        "    | chat_model\n",
        "    | output_parser\n",
        ")"
      ],
      "metadata": {
        "id": "6Oo8-cZBNSPN"
      },
      "execution_count": 43,
      "outputs": []
    },
    {
      "cell_type": "code",
      "source": [
        "res=rag_chain.invoke(\"tell me the grading system of iit bhilai\")"
      ],
      "metadata": {
        "id": "EWE1LM_IOmIQ"
      },
      "execution_count": 44,
      "outputs": []
    },
    {
      "cell_type": "code",
      "source": [
        "display(Markdown(res))"
      ],
      "metadata": {
        "colab": {
          "base_uri": "https://localhost:8080/",
          "height": 400
        },
        "id": "2OxUvTPWiq6X",
        "outputId": "fc122ef2-fbfd-4215-bffe-bb22e296f3cd"
      },
      "execution_count": 45,
      "outputs": [
        {
          "output_type": "display_data",
          "data": {
            "text/plain": [
              "<IPython.core.display.Markdown object>"
            ],
            "text/markdown": "The grading system of IIT Bhilai for regular courses is as follows:\n- A+: 10 points\n- A: 10 points\n- A–: 9 points\n- B+: 8 points\n- B: 7 points\n- B–: 6 points\n- C+: 5 points\n- C: 4 points\n- D: 0 points\n- F: 0 points\n- FS: 0 points\n- I: 0 points\n\nGrades for Thesis and Candidacy examinations are as follows:\n- A: 10 points\n- B: 8 points\n- C: 6 points\n- F: 0 points\n- I: 0 points\n\n[It's important to note that all the information provided is based on the retrieved context and might change over time.]\n"
          },
          "metadata": {}
        }
      ]
    },
    {
      "cell_type": "code",
      "source": [
        "res=rag_chain.invoke(\"what is the registration process in iit bhilai?\")"
      ],
      "metadata": {
        "id": "NW_CXGopjweG"
      },
      "execution_count": 46,
      "outputs": []
    },
    {
      "cell_type": "code",
      "source": [
        "display(Markdown(res))"
      ],
      "metadata": {
        "colab": {
          "base_uri": "https://localhost:8080/",
          "height": 98
        },
        "id": "wjWRfX1Rj1MH",
        "outputId": "cbd0c79a-4e35-452a-c27b-f9351ba50c4b"
      },
      "execution_count": 47,
      "outputs": [
        {
          "output_type": "display_data",
          "data": {
            "text/plain": [
              "<IPython.core.display.Markdown object>"
            ],
            "text/markdown": "Students first need to pre-register for the courses they are scheduled to take in the next semester. They should ensure they meet the eligibility criteria and pre-requisite criteria. If they need instructor permissions, they must submit a fully filled registration form along with the necessary permissions. If any student fails to complete the registration process within the specified time, they may face disciplinary action.\n"
          },
          "metadata": {}
        }
      ]
    },
    {
      "cell_type": "code",
      "source": [
        "res=rag_chain.invoke(\"This student notebook is Applicable for students admitted till?\")"
      ],
      "metadata": {
        "id": "JxYxwpN-6_7X"
      },
      "execution_count": 48,
      "outputs": []
    },
    {
      "cell_type": "code",
      "source": [
        "display(Markdown(res))"
      ],
      "metadata": {
        "colab": {
          "base_uri": "https://localhost:8080/",
          "height": 46
        },
        "id": "7M4J1iYB7Kty",
        "outputId": "b42b6cb3-d622-4110-ffcc-a16cb3b762b3"
      },
      "execution_count": 50,
      "outputs": [
        {
          "output_type": "display_data",
          "data": {
            "text/plain": [
              "<IPython.core.display.Markdown object>"
            ],
            "text/markdown": "2022-23-W semester\n"
          },
          "metadata": {}
        }
      ]
    }
  ]
}