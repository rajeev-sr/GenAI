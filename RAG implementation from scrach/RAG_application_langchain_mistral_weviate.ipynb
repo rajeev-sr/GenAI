{
  "nbformat": 4,
  "nbformat_minor": 0,
  "metadata": {
    "colab": {
      "provenance": [],
      "gpuType": "T4"
    },
    "kernelspec": {
      "name": "python3",
      "display_name": "Python 3"
    },
    "language_info": {
      "name": "python"
    },
    "accelerator": "GPU"
  },
  "cells": [
    {
      "cell_type": "code",
      "source": [
        "# !pip install -qU langchain"
      ],
      "metadata": {
        "collapsed": true,
        "id": "gk-m7xDv9ONU"
      },
      "execution_count": null,
      "outputs": []
    },
    {
      "cell_type": "code",
      "source": [
        "# !pip install -U weaviate-client"
      ],
      "metadata": {
        "collapsed": true,
        "id": "aLRT-kFI9t7O"
      },
      "execution_count": null,
      "outputs": []
    },
    {
      "cell_type": "code",
      "source": [
        "from IPython.display import display, Markdown"
      ],
      "metadata": {
        "id": "imvARc8Liyf0"
      },
      "execution_count": null,
      "outputs": []
    },
    {
      "cell_type": "code",
      "execution_count": null,
      "metadata": {
        "id": "Gh0_UhJCyHN7"
      },
      "outputs": [],
      "source": [
        "import weaviate\n",
        "from weaviate.classes.init import Auth"
      ]
    },
    {
      "cell_type": "code",
      "source": [
        "from google.colab import userdata\n",
        "weaviate_url = userdata.get(\"weviate_cluster\")\n",
        "weaviate_api_key = userdata.get(\"weviate_key\")"
      ],
      "metadata": {
        "id": "DZ135LBp_gbe"
      },
      "execution_count": null,
      "outputs": []
    },
    {
      "cell_type": "code",
      "source": [
        "client=weaviate.connect_to_weaviate_cloud(\n",
        "    cluster_url=weaviate_url,\n",
        "    auth_credentials=Auth.api_key(weaviate_api_key),\n",
        ")"
      ],
      "metadata": {
        "id": "2H5pwo8nBPwH"
      },
      "execution_count": null,
      "outputs": []
    },
    {
      "cell_type": "code",
      "source": [
        "# !pip install sentence-transformers"
      ],
      "metadata": {
        "collapsed": true,
        "id": "KrjXY0aQCEeL"
      },
      "execution_count": null,
      "outputs": []
    },
    {
      "cell_type": "code",
      "source": [
        "# !pip install -qU langchain-community pypdf"
      ],
      "metadata": {
        "collapsed": true,
        "id": "bNuESFskDGvA"
      },
      "execution_count": null,
      "outputs": []
    },
    {
      "cell_type": "code",
      "source": [
        "from langchain.embeddings import HuggingFaceEmbeddings\n",
        "model_name = \"sentence-transformers/all-mpnet-base-v2\"\n",
        "model_kwargs = {\"device\": \"cuda\"}\n",
        "embeddings = HuggingFaceEmbeddings(\n",
        "    model_name=model_name,\n",
        "    model_kwargs=model_kwargs\n",
        ")"
      ],
      "metadata": {
        "id": "-3r52RYhCeo7"
      },
      "execution_count": null,
      "outputs": []
    },
    {
      "cell_type": "code",
      "source": [
        "from langchain_community.document_loaders import PyPDFLoader\n",
        "pages=PyPDFLoader(\"/content/student_handbook.pdf\",extract_images=True).load()"
      ],
      "metadata": {
        "id": "yutLLir2DXpa"
      },
      "execution_count": null,
      "outputs": []
    },
    {
      "cell_type": "code",
      "source": [
        "# pages"
      ],
      "metadata": {
        "id": "fq5xTbcUFHc5"
      },
      "execution_count": null,
      "outputs": []
    },
    {
      "cell_type": "code",
      "source": [
        "from langchain.text_splitter import RecursiveCharacterTextSplitter\n",
        "text_splitter=RecursiveCharacterTextSplitter(chunk_size=1000,chunk_overlap=50)\n",
        "docs=text_splitter.split_documents(pages)"
      ],
      "metadata": {
        "id": "WYE6Y-vpFal_"
      },
      "execution_count": null,
      "outputs": []
    },
    {
      "cell_type": "code",
      "source": [
        "# docs"
      ],
      "metadata": {
        "id": "5JRCBM6VFwxK"
      },
      "execution_count": null,
      "outputs": []
    },
    {
      "cell_type": "code",
      "source": [
        "# !pip install langchain-weaviate"
      ],
      "metadata": {
        "id": "divo0xDGIM_j"
      },
      "execution_count": null,
      "outputs": []
    },
    {
      "cell_type": "code",
      "source": [
        "from langchain_weaviate.vectorstores import WeaviateVectorStore\n",
        "vector_db = WeaviateVectorStore.from_documents(\n",
        "    documents=docs,\n",
        "    embedding=embeddings,\n",
        "    client=client,\n",
        "    by_text=False\n",
        "\n",
        "    # docs, embeddings, client=client, by_text=False\n",
        ")"
      ],
      "metadata": {
        "id": "VCm6Ev_wF1eJ"
      },
      "execution_count": null,
      "outputs": []
    },
    {
      "cell_type": "code",
      "source": [
        "print(vector_db.similarity_search('what is the registration process in iit bhilai?',k=3)[0].page_content)"
      ],
      "metadata": {
        "colab": {
          "base_uri": "https://localhost:8080/"
        },
        "id": "HvnVYHI9IbYb",
        "outputId": "136c8d96-e4f6-42f9-f949-12f45c4bd390"
      },
      "execution_count": null,
      "outputs": [
        {
          "output_type": "stream",
          "name": "stdout",
          "text": [
            "parts of this process rests with the students. If a student fails to complete the registration \n",
            "process within the specified time, he/she shall be deemed to be on una uthorized absence \n",
            "from the Institute and suitable disciplinary action including the termination of the studentship \n",
            "shall be carried out by the Institute. \n",
            "Academic Pre-registration \n",
            "• All students must pre -register for the courses scheduled to be taken in the next \n",
            "semester as per schedule specified in the Academic Calendar. \n",
            "• It will be the responsibility of the students to ensure that they meet the eligibility criteria, \n",
            "pre-requisite criteria if any. Students may only register for the number of courses as \n",
            "permitted by semester load rules and must also ensure that there are no timetable \n",
            "clashes amongst the courses. The students shall need to submit the fully filled \n",
            "registration form  along with the permissions from the instructors if needed  for the \n",
            "approval of the DPGC/DUGC.\n"
          ]
        }
      ]
    },
    {
      "cell_type": "code",
      "source": [
        "print(vector_db.similarity_search('what is the registration process in iit bhilai?',k=3)[1].page_content)"
      ],
      "metadata": {
        "colab": {
          "base_uri": "https://localhost:8080/"
        },
        "id": "Hn60jtOZJ4Nv",
        "outputId": "3deb256c-4546-4dc1-b3cd-360610ff7227"
      },
      "execution_count": null,
      "outputs": [
        {
          "output_type": "stream",
          "name": "stdout",
          "text": [
            "registration must obtain prior permission from Dean of Academic Affairs. They shall be \n",
            "treated as non-reporting students if they fail to do so. \n",
            "Administrative Registration \n",
            "• All students must pay for all dues, including the hostel dues, academic fees, any other \n",
            "dues that the Institute may prescribe from time to time etc. during the administrative \n",
            "registration. \n",
            "• All students whose ID card expires must get it renewed as pe r the norms of the \n",
            "Institute. \n",
            "• All students must carry out registration of facilities such as various labs, library etc. as \n",
            "specified by the Institute during the administrative registration. \n",
            "• Any failure to do the administrative registration as per the stipu lated time table shall \n",
            "attract penalty, disciplinary action and/or termination of the program. \n",
            "• A doctorate student who has submitted the thesis and is waiting for defense shall \n",
            "register for zero credits if he/she wishes to stay on campus. The student shall pay all\n"
          ]
        }
      ]
    },
    {
      "cell_type": "code",
      "source": [
        "from re import template\n",
        "from langchain.prompts import ChatPromptTemplate\n",
        "\n",
        "template=\"\"\"You are an assistant for question-answering tasks.\n",
        "Use the following pieces of retrieved context to answer the question.\n",
        "If you don't know the answer, just say this is not mentioned in the student-handbook.\n",
        "and keep the answer concise.\n",
        "Question: {question}\n",
        "Context: {context}\n",
        "Answer:\n",
        "\"\"\""
      ],
      "metadata": {
        "id": "r7_9t5msKIMr"
      },
      "execution_count": null,
      "outputs": []
    },
    {
      "cell_type": "code",
      "source": [
        "prompt=ChatPromptTemplate.from_template(template)\n",
        "prompt"
      ],
      "metadata": {
        "colab": {
          "base_uri": "https://localhost:8080/"
        },
        "id": "yjcydWZMKs0g",
        "outputId": "5d03419d-ac03-4f9d-95e4-443bc9f6d8f5"
      },
      "execution_count": null,
      "outputs": [
        {
          "output_type": "execute_result",
          "data": {
            "text/plain": [
              "ChatPromptTemplate(input_variables=['context', 'question'], input_types={}, partial_variables={}, messages=[HumanMessagePromptTemplate(prompt=PromptTemplate(input_variables=['context', 'question'], input_types={}, partial_variables={}, template=\"You are an assistant for question-answering tasks.\\nUse the following pieces of retrieved context to answer the question.\\nIf you don't know the answer, just say this is not mentioned in the student-handbook.\\nand keep the answer concise.\\nQuestion: {question}\\nContext: {context}\\nAnswer:\\n\"), additional_kwargs={})])"
            ]
          },
          "metadata": {},
          "execution_count": 192
        }
      ]
    },
    {
      "cell_type": "code",
      "source": [
        "# !pip install -qU langchain-huggingface"
      ],
      "metadata": {
        "id": "VabfbiR-PjAk"
      },
      "execution_count": null,
      "outputs": []
    },
    {
      "cell_type": "code",
      "source": [
        "from langchain_huggingface import HuggingFaceEndpoint\n",
        "huggingface_token=userdata.get(\"h_key\")"
      ],
      "metadata": {
        "id": "XIoaadCBK3b-"
      },
      "execution_count": null,
      "outputs": []
    },
    {
      "cell_type": "code",
      "source": [
        "from langchain_huggingface import ChatHuggingFace, HuggingFaceEndpoint\n",
        "\n",
        "llm = HuggingFaceEndpoint(\n",
        "    repo_id=\"mistralai/Mistral-7B-Instruct-v0.3\",\n",
        "    task=\"text-generation\",\n",
        "    huggingfacehub_api_token=huggingface_token,\n",
        "    max_new_tokens=512,\n",
        "    do_sample=False,\n",
        "    repetition_penalty=1.03\n",
        ")\n",
        "\n",
        "chat_model = ChatHuggingFace(llm=llm)"
      ],
      "metadata": {
        "id": "E-0orH3Ad4Bj"
      },
      "execution_count": null,
      "outputs": []
    },
    {
      "cell_type": "code",
      "source": [
        "chat_model.invoke(\"what is the registration process in iit bhilai?\").content"
      ],
      "metadata": {
        "colab": {
          "base_uri": "https://localhost:8080/",
          "height": 144
        },
        "id": "1crpLfcoe6MA",
        "outputId": "7c2c6eca-65ee-4488-ec53-798facaf7229"
      },
      "execution_count": null,
      "outputs": [
        {
          "output_type": "execute_result",
          "data": {
            "text/plain": [
              "\" I'm here to help you with general information, but please note that the specific details might vary each year or for different institutions. As of now, IIT Bhilai is under construction and not yet operational. However, I can provide you with a general idea of the registration process for IITs based on the current processes in other IITs.\\n\\n1. Joint Entrance Examination (JEE) Main: To be eligible for admission into IITs, you need to appear for the JEE Main exam conducted by the National Testing Agency (NTA).\\n\\n2. Joint Seat Allocation Authority (JoSAA): Based on your JEE Main rank, you can participate in the JoSAA counseling process to choose your preferred IIT and course.\\n\\n3. Registration: During the JoSAA counseling process, you will be required to register on the JoSAA website using your JEE Main roll number and other necessary details.\\n\\n4. Choice Filling and Locking: After registration, you can fill in your preferred choices of IITs and courses in order of preference. Make sure to lock your choices before the deadline.\\n\\n5. Seat Allocation: Based on the seat availability, your rank, and the choices filled, you will be allocated a seat in an IIT.\\n\\n6. Document Verification and Fee Payment: After seat allocation, you will be required to report to the allotted IIT for document verification and fee payment. Bring original documents and photocopies for verification.\\n\\n7. Admission Confirmation: Once your documents are verified and the fee is paid, you will receive an admission letter confirming your seat in the IIT.\\n\\n8. Registration at the IIT: After joining, you will be required to complete the registration process at the IIT, which may include biometric data collection, course selection, and other formalities.\""
            ],
            "application/vnd.google.colaboratory.intrinsic+json": {
              "type": "string"
            }
          },
          "metadata": {},
          "execution_count": 196
        }
      ]
    },
    {
      "cell_type": "code",
      "source": [
        "from langchain.schema.runnable import RunnablePassthrough\n",
        "from langchain.schema.output_parser import StrOutputParser\n",
        "\n",
        "output_parser=StrOutputParser()"
      ],
      "metadata": {
        "id": "NEgeA0gWNOwa"
      },
      "execution_count": null,
      "outputs": []
    },
    {
      "cell_type": "code",
      "source": [
        "retriever=vector_db.as_retriever()"
      ],
      "metadata": {
        "id": "nSn7DxorNmxL"
      },
      "execution_count": null,
      "outputs": []
    },
    {
      "cell_type": "code",
      "source": [
        "retriever.get_relevant_documents(\"what is the registration process in iit bhilai?\")"
      ],
      "metadata": {
        "colab": {
          "base_uri": "https://localhost:8080/"
        },
        "id": "JXLt6aqiNvd_",
        "outputId": "6fdc6658-53a0-46fc-a55f-02581fb95523"
      },
      "execution_count": null,
      "outputs": [
        {
          "output_type": "execute_result",
          "data": {
            "text/plain": [
              "[Document(metadata={'source': '/content/student_handbook.pdf', 'creationdate': datetime.datetime(2023, 6, 30, 19, 57, 14, tzinfo=datetime.timezone(datetime.timedelta(seconds=19800))), 'total_pages': 28.0, 'page': 10.0, 'creator': 'Microsoft® Word for Microsoft 365', 'moddate': datetime.datetime(2023, 6, 30, 19, 57, 14, tzinfo=datetime.timezone(datetime.timedelta(seconds=19800))), 'producer': 'Microsoft® Word for Microsoft 365', 'author': 'IIT BHILAI', 'page_label': '11'}, page_content='parts of this process rests with the students. If a student fails to complete the registration \\nprocess within the specified time, he/she shall be deemed to be on una uthorized absence \\nfrom the Institute and suitable disciplinary action including the termination of the studentship \\nshall be carried out by the Institute. \\nAcademic Pre-registration \\n• All students must pre -register for the courses scheduled to be taken in the next \\nsemester as per schedule specified in the Academic Calendar. \\n• It will be the responsibility of the students to ensure that they meet the eligibility criteria, \\npre-requisite criteria if any. Students may only register for the number of courses as \\npermitted by semester load rules and must also ensure that there are no timetable \\nclashes amongst the courses. The students shall need to submit the fully filled \\nregistration form  along with the permissions from the instructors if needed  for the \\napproval of the DPGC/DUGC.'),\n",
              " Document(metadata={'source': '/content/student_handbook.pdf', 'creationdate': datetime.datetime(2023, 6, 30, 19, 57, 14, tzinfo=datetime.timezone(datetime.timedelta(seconds=19800))), 'total_pages': 28.0, 'page': 11.0, 'creator': 'Microsoft® Word for Microsoft 365', 'moddate': datetime.datetime(2023, 6, 30, 19, 57, 14, tzinfo=datetime.timezone(datetime.timedelta(seconds=19800))), 'producer': 'Microsoft® Word for Microsoft 365', 'author': 'IIT BHILAI', 'page_label': '12'}, page_content='registration must obtain prior permission from Dean of Academic Affairs. They shall be \\ntreated as non-reporting students if they fail to do so. \\nAdministrative Registration \\n• All students must pay for all dues, including the hostel dues, academic fees, any other \\ndues that the Institute may prescribe from time to time etc. during the administrative \\nregistration. \\n• All students whose ID card expires must get it renewed as pe r the norms of the \\nInstitute. \\n• All students must carry out registration of facilities such as various labs, library etc. as \\nspecified by the Institute during the administrative registration. \\n• Any failure to do the administrative registration as per the stipu lated time table shall \\nattract penalty, disciplinary action and/or termination of the program. \\n• A doctorate student who has submitted the thesis and is waiting for defense shall \\nregister for zero credits if he/she wishes to stay on campus. The student shall pay all'),\n",
              " Document(metadata={'source': '/content/student_handbook.pdf', 'page': 25.0, 'total_pages': 28.0, 'creationdate': datetime.datetime(2023, 6, 30, 19, 57, 14, tzinfo=datetime.timezone(datetime.timedelta(seconds=19800))), 'creator': 'Microsoft® Word for Microsoft 365', 'moddate': datetime.datetime(2023, 6, 30, 19, 57, 14, tzinfo=datetime.timezone(datetime.timedelta(seconds=19800))), 'producer': 'Microsoft® Word for Microsoft 365', 'author': 'IIT BHILAI', 'page_label': '26'}, page_content='26 \\n \\nS. \\nNo. \\nName of \\nScholarshi\\np \\nEligibility Criteria Selection \\nProcess \\nBenefits \\n1. Merit-cum-\\nMeans \\n(MCM) \\nScholarship \\nMEANS: Combined parental income \\nshall not exceed Rs. 5 Lakhs for General \\nCategory students and Rs. 6 Lakhs in \\ncase of OBC \\nstudents.                                                    \\nMERIT: All students of first semester, \\nwho are admitted to BTech program of \\nIIT Bhilai. For other semesters, the \\nstudent should have a CGPA of 6.0 or \\nabove and should have no F grade in the \\nprevious regular semester. \\nOther eligibility criteria:                         \\n1. The student should belong to General \\nor OBC \\ncategory.                                                   \\n  2. The student should not have been \\npenalized because of unfair means or \\nindiscipline by IIT Bhilai. A student is \\neligible for applying for the scholarship \\nONLY if he/she is eligible under ALL the \\neligibility criteria. \\nAn \\ninstitute-\\nwide \\nscholarsh\\nip and \\nprizes \\ncommitte\\ne shall'),\n",
              " Document(metadata={'source': '/content/student_handbook.pdf', 'page': 6.0, 'total_pages': 28.0, 'creationdate': datetime.datetime(2023, 6, 30, 19, 57, 14, tzinfo=datetime.timezone(datetime.timedelta(seconds=19800))), 'creator': 'Microsoft® Word for Microsoft 365', 'moddate': datetime.datetime(2023, 6, 30, 19, 57, 14, tzinfo=datetime.timezone(datetime.timedelta(seconds=19800))), 'producer': 'Microsoft® Word for Microsoft 365', 'author': 'IIT BHILAI', 'page_label': '7'}, page_content='student need s to complete the credit requirements for th e courses. There is a prescribed \\nnominal duration of the program while the students may complete in lesser time or may invest \\nmore time to move to the next higher level of system. \\nIIT Bhilai offers the following programs. \\n1. BTech: The nominal Bachelor of Technology degree wherein a student is admitted as \\nper the admission process. \\n2. BTech (Honours): The enhanced Bachelor of Technology degree wherein a student \\nadmitted to a BTech program may choose to carry out additional courses/project in \\nhis/her own disciplin e or another discipline. BTech (Honours) is a program where \\nstudents are not admitted initially but may opt to convert their BTech program. \\n3. MSc: The Master of Science degree program offered by Departments of Physics, \\nChemistry and Mathematics wherein a stu dent is admitted as per the admission \\nprocess. \\n4. MTech: The nominal Master of Technology degree program wherein a student is')]"
            ]
          },
          "metadata": {},
          "execution_count": 199
        }
      ]
    },
    {
      "cell_type": "code",
      "source": [
        "rag_chain = (\n",
        "    {\"context\": retriever, \"question\": RunnablePassthrough()}\n",
        "    | prompt\n",
        "    | chat_model\n",
        "    | output_parser\n",
        ")"
      ],
      "metadata": {
        "id": "6Oo8-cZBNSPN"
      },
      "execution_count": null,
      "outputs": []
    },
    {
      "cell_type": "code",
      "source": [
        "res=rag_chain.invoke(\"tell me the grading system of iit bhilai\")"
      ],
      "metadata": {
        "id": "EWE1LM_IOmIQ"
      },
      "execution_count": null,
      "outputs": []
    },
    {
      "cell_type": "code",
      "source": [
        "display(Markdown(res))"
      ],
      "metadata": {
        "colab": {
          "base_uri": "https://localhost:8080/",
          "height": 64
        },
        "id": "2OxUvTPWiq6X",
        "outputId": "03a75885-679c-4337-d9bb-c128e5e85940"
      },
      "execution_count": null,
      "outputs": [
        {
          "output_type": "display_data",
          "data": {
            "text/plain": [
              "<IPython.core.display.Markdown object>"
            ],
            "text/markdown": " The grading system for regular courses at IIT Bhilai is as follows: A+ (10 points), A (10 points), A– (9 points), B (8 points), B– (7 points), C (6 points), C– (5 points), D (4 points), F (0 points), FS (0 points), I."
          },
          "metadata": {}
        }
      ]
    },
    {
      "cell_type": "code",
      "source": [
        "res=rag_chain.invoke(\"what is the registration process in iit bhilai?\")"
      ],
      "metadata": {
        "id": "NW_CXGopjweG"
      },
      "execution_count": null,
      "outputs": []
    },
    {
      "cell_type": "code",
      "source": [
        "display(Markdown(res))"
      ],
      "metadata": {
        "colab": {
          "base_uri": "https://localhost:8080/",
          "height": 213
        },
        "id": "wjWRfX1Rj1MH",
        "outputId": "897ac2a4-c63a-44da-eb11-a87c18498362"
      },
      "execution_count": null,
      "outputs": [
        {
          "output_type": "display_data",
          "data": {
            "text/plain": [
              "<IPython.core.display.Markdown object>"
            ],
            "text/markdown": " The registration process in IIT Bhilai involves two steps: Academic Pre-registration and Administrative Registration.\n\n1. Academic Pre-registration: All students must pre-register for the courses scheduled to be taken in the next semester as per the schedule specified in the Academic Calendar. Students must ensure they meet the eligibility criteria, pre-requisite criteria, and there are no timetable clashes amongst the courses. They need to submit the fully filled registration form along with the permissions from the instructors if needed for the approval of the DPGC/DUGC.\n\n2. Administrative Registration: All students must pay for all dues, including the hostel dues, academic fees, any other dues that the Institute may prescribe from time to time, get their ID card renewed if it expires, register for facilities such as various labs, library etc. as specified by the Institute. Failure to do the administrative registration as per the stipulated time table shall attract penalty, disciplinary action, and/or termination of the program."
          },
          "metadata": {}
        }
      ]
    },
    {
      "cell_type": "code",
      "source": [],
      "metadata": {
        "id": "7fTKXcg4kLuM"
      },
      "execution_count": null,
      "outputs": []
    }
  ]
}